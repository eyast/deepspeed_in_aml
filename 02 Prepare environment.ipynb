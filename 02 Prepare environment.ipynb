{
  "cells": [
    {
      "cell_type": "markdown",
      "id": "a8935abe-66b0-4e43-b550-0a2adb62cebd",
      "metadata": {
        "tags": []
      },
      "source": [
        "# Create and test an AzureML environment supporting DeepSpeed training\n",
        "\n",
        "__Goal__: Get a DeepSpeed environment setup within Azure ML\n",
        "\n",
        "This notebook shows how to build an AzureML environment that supports [DeepSpeed] training. At the end of it you should have an environment, backed by a [Docker] image, that can train PyTorch and HuggingFace transformer models. We build our environment on a remote machine by default but also describe the process of building it locally for debugging purposes. "
      ]
    },
    {
      "cell_type": "markdown",
      "id": "70d968f2-4b97-4be5-9f11-c46e235d7750",
      "metadata": {},
      "source": [
        "## Registering and building an environment on AzureML\n",
        "\n",
        "The [Azure container for Pytorch docker image](https://learn.microsoft.com/en-us/azure/machine-learning/resource-azure-container-for-pytorch?view=azureml-api-2) should be the starting point for running DeepSpeed training and inference jobs. The image includes Deepspeed 0.9 and should be slightly modified to enable this tutorial.\n",
        "\n",
        "### Composition of the envirinment\n",
        "To follow this tutorial, I recommend you create a new environment based on the existing curated environment ACPT image. Afterwich, modify the dockerfile and requirements.txt contexts as follows:\n",
        "I've named this environment `deepspeed-transformers-dataset`\n",
        "\n",
        "### dockerfile\n",
        "\n",
        "```dockerfile\n",
        "FROM mcr.microsoft.com/aifx/acpt/stable-ubuntu2004-cu117-py38-torch1131:biweekly.202311.2\n",
        "\n",
        "\n",
        "COPY requirements.txt .\n",
        "RUN pip install -r requirements.txt --no-cache-dir\n",
        "\n",
        "\n",
        "COPY --from=mcr.microsoft.com/azureml/o16n-base/python-assets:20230419.v1 /artifacts /var/\n",
        "RUN /var/requirements/install_system_requirements.sh && \\\n",
        "    cp /var/configuration/rsyslog.conf /etc/rsyslog.conf && \\\n",
        "    cp /var/configuration/nginx.conf /etc/nginx/sites-available/app && \\\n",
        "    ln -sf /etc/nginx/sites-available/app /etc/nginx/sites-enabled/app && \\\n",
        "    rm -f /etc/nginx/sites-enabled/default\n",
        "ENV SVDIR=/var/runit\n",
        "ENV WORKER_TIMEOUT=400\n",
        "EXPOSE 5001 8883 8888\n",
        "\n",
        "RUN apt-get update\n",
        "RUN apt-get install -y openssh-server openssh-client\n",
        "RUN ds_report\n",
        "```\n",
        "\n",
        "### requirements.txt\n",
        "\n",
        "```\n",
        "azureml-core==1.54.0\n",
        "azureml-dataset-runtime==1.54.0\n",
        "azureml-defaults==1.54.0\n",
        "azure-ml==0.0.1\n",
        "azure-ml-component==0.9.18.post2\n",
        "azureml-mlflow==1.54.0\n",
        "azureml-contrib-services==1.54.0\n",
        "azureml-contrib-services==1.54.0\n",
        "azureml-automl-common-tools==1.54.0\n",
        "torch-tb-profiler~=0.4.0\n",
        "azureml-inference-server-http~=0.8.0\n",
        "inference-schema~=1.5.0\n",
        "MarkupSafe==2.1.2\n",
        "regex\n",
        "pybind11\n",
        "urllib3>=1.26.18\n",
        "cryptography>=41.0.4\n",
        "aiohttp>=3.8.5\n",
        "transformers\n",
        "datasets\n",
        "scikit-learn\n",
        "transformers[torch]\n",
        "accelerate\n",
        "```"
      ]
    },
    {
      "cell_type": "markdown",
      "id": "2214b563",
      "metadata": {},
      "source": []
    }
  ],
  "metadata": {
    "kernel_info": {
      "name": "python38-azureml"
    },
    "kernelspec": {
      "display_name": "Python 3.8 - AzureML",
      "language": "python",
      "name": "python38-azureml"
    },
    "language_info": {
      "codemirror_mode": {
        "name": "ipython",
        "version": 3
      },
      "file_extension": ".py",
      "mimetype": "text/x-python",
      "name": "python",
      "nbconvert_exporter": "python",
      "pygments_lexer": "ipython3",
      "version": "3.8.5"
    },
    "microsoft": {
      "ms_spell_check": {
        "ms_spell_check_language": "en"
      }
    },
    "nteract": {
      "version": "nteract-front-end@1.0.0"
    },
    "toc": {
      "base_numbering": 1,
      "nav_menu": {},
      "number_sections": true,
      "sideBar": true,
      "skip_h1_title": false,
      "title_cell": "Table of Contents",
      "title_sidebar": "Contents",
      "toc_cell": false,
      "toc_position": {},
      "toc_section_display": true,
      "toc_window_display": true
    },
    "varInspector": {
      "cols": {
        "lenName": 16,
        "lenType": 16,
        "lenVar": 40
      },
      "kernels_config": {
        "python": {
          "delete_cmd_postfix": "",
          "delete_cmd_prefix": "del ",
          "library": "var_list.py",
          "varRefreshCmd": "print(var_dic_list())"
        },
        "r": {
          "delete_cmd_postfix": ") ",
          "delete_cmd_prefix": "rm(",
          "library": "var_list.r",
          "varRefreshCmd": "cat(var_dic_list()) "
        }
      },
      "types_to_exclude": [
        "module",
        "function",
        "builtin_function_or_method",
        "instance",
        "_Feature"
      ],
      "window_display": false
    }
  },
  "nbformat": 4,
  "nbformat_minor": 5
}
